{
  "cells": [
    {
      "cell_type": "markdown",
      "metadata": {
        "id": "view-in-github",
        "colab_type": "text"
      },
      "source": [
        "<a href=\"https://colab.research.google.com/github/gupta24789/seq2seq/blob/main/seq2seq_attention.ipynb\" target=\"_parent\"><img src=\"https://colab.research.google.com/assets/colab-badge.svg\" alt=\"Open In Colab\"/></a>"
      ]
    },
    {
      "cell_type": "markdown",
      "metadata": {
        "id": "U5FXM8HEuLN_"
      },
      "source": [
        "## Machine Translation :  German to English"
      ]
    },
    {
      "cell_type": "code",
      "execution_count": null,
      "metadata": {
        "id": "6CDoQu5puLOB"
      },
      "outputs": [],
      "source": [
        "# !pip install evaluate\n",
        "# !python -m spacy download de_core_news_sm\n",
        "# !python -m spacy download en_core_web_sm"
      ]
    },
    {
      "cell_type": "code",
      "execution_count": null,
      "metadata": {
        "id": "s5tmYNCPuLOC"
      },
      "outputs": [],
      "source": [
        "import os\n",
        "os.environ['CUDA_VISIBLE_DEVICES'] = \"1\""
      ]
    },
    {
      "cell_type": "code",
      "execution_count": null,
      "metadata": {
        "id": "hW8b9TJDuLOC"
      },
      "outputs": [],
      "source": [
        "import shutil\n",
        "import random\n",
        "import itertools\n",
        "import spacy\n",
        "import pandas as pd\n",
        "import numpy as np\n",
        "from pprint import pprint\n",
        "from tqdm import tqdm , tqdm_notebook\n",
        "\n",
        "import matplotlib.pyplot as plt\n",
        "import evaluate\n",
        "import torch\n",
        "import torch.nn as nn\n",
        "import torch.nn.functional as F\n",
        "import torch.optim as optim\n",
        "from torch.utils.data import Dataset, DataLoader\n",
        "\n",
        "import pytorch_lightning as pl"
      ]
    },
    {
      "cell_type": "markdown",
      "metadata": {
        "id": "6wdH4_rHuLOC"
      },
      "source": [
        "## Set Seed"
      ]
    },
    {
      "cell_type": "code",
      "execution_count": null,
      "metadata": {
        "id": "Cdf1lGHDuLOC"
      },
      "outputs": [],
      "source": [
        "seed = 121\n",
        "random.seed(seed)\n",
        "np.random.seed(seed)\n",
        "torch.manual_seed(seed)\n",
        "torch.cuda.manual_seed(seed)\n",
        "torch.backends.cudnn.deterministic = True"
      ]
    },
    {
      "cell_type": "markdown",
      "metadata": {
        "id": "MPDViMoMuLOC"
      },
      "source": [
        "## Read Data"
      ]
    },
    {
      "cell_type": "code",
      "execution_count": null,
      "metadata": {
        "id": "XFpqk8DruLOC",
        "outputId": "7d37e2ae-ce83-411f-e51b-40979696b5ff"
      },
      "outputs": [
        {
          "data": {
            "text/plain": [
              "((29000, 2), (1014, 2), (1000, 2))"
            ]
          },
          "execution_count": 5,
          "metadata": {},
          "output_type": "execute_result"
        }
      ],
      "source": [
        "train_df = pd.read_csv(\"https://raw.githubusercontent.com/gupta24789/seq2seq/main/data/train.csv\")\n",
        "val_df = pd.read_csv(\"https://raw.githubusercontent.com/gupta24789/seq2seq/main/data/val.csv\")\n",
        "test_df = pd.read_csv(\"https://raw.githubusercontent.com/gupta24789/seq2seq/main/data/test.csv\")\n",
        "\n",
        "train_df.shape, val_df.shape, test_df.shape"
      ]
    },
    {
      "cell_type": "code",
      "execution_count": null,
      "metadata": {
        "id": "BgtB3LGcuLOD",
        "outputId": "72863972-c3a1-436e-e7fd-bffa18e62510"
      },
      "outputs": [
        {
          "data": {
            "text/html": [
              "<div>\n",
              "<style scoped>\n",
              "    .dataframe tbody tr th:only-of-type {\n",
              "        vertical-align: middle;\n",
              "    }\n",
              "\n",
              "    .dataframe tbody tr th {\n",
              "        vertical-align: top;\n",
              "    }\n",
              "\n",
              "    .dataframe thead th {\n",
              "        text-align: right;\n",
              "    }\n",
              "</style>\n",
              "<table border=\"1\" class=\"dataframe\">\n",
              "  <thead>\n",
              "    <tr style=\"text-align: right;\">\n",
              "      <th></th>\n",
              "      <th>en</th>\n",
              "      <th>de</th>\n",
              "    </tr>\n",
              "  </thead>\n",
              "  <tbody>\n",
              "    <tr>\n",
              "      <th>0</th>\n",
              "      <td>Two young, White males are outside near many b...</td>\n",
              "      <td>Zwei junge weiße Männer sind im Freien in der ...</td>\n",
              "    </tr>\n",
              "    <tr>\n",
              "      <th>1</th>\n",
              "      <td>Several men in hard hats are operating a giant...</td>\n",
              "      <td>Mehrere Männer mit Schutzhelmen bedienen ein A...</td>\n",
              "    </tr>\n",
              "    <tr>\n",
              "      <th>2</th>\n",
              "      <td>A little girl climbing into a wooden playhouse.</td>\n",
              "      <td>Ein kleines Mädchen klettert in ein Spielhaus ...</td>\n",
              "    </tr>\n",
              "  </tbody>\n",
              "</table>\n",
              "</div>"
            ],
            "text/plain": [
              "                                                  en  \\\n",
              "0  Two young, White males are outside near many b...   \n",
              "1  Several men in hard hats are operating a giant...   \n",
              "2    A little girl climbing into a wooden playhouse.   \n",
              "\n",
              "                                                  de  \n",
              "0  Zwei junge weiße Männer sind im Freien in der ...  \n",
              "1  Mehrere Männer mit Schutzhelmen bedienen ein A...  \n",
              "2  Ein kleines Mädchen klettert in ein Spielhaus ...  "
            ]
          },
          "execution_count": 6,
          "metadata": {},
          "output_type": "execute_result"
        }
      ],
      "source": [
        "train_df.head(3)"
      ]
    },
    {
      "cell_type": "markdown",
      "metadata": {
        "id": "hXkzRWG_uLOD"
      },
      "source": [
        "## Tokenizer"
      ]
    },
    {
      "cell_type": "code",
      "execution_count": null,
      "metadata": {
        "id": "faZXyU41uLOD"
      },
      "outputs": [],
      "source": [
        "en_nlp = spacy.load(\"en_core_web_sm\")\n",
        "de_nlp = spacy.load(\"de_core_news_sm\")"
      ]
    },
    {
      "cell_type": "code",
      "execution_count": null,
      "metadata": {
        "id": "OTr1D38ZuLOD",
        "outputId": "d09a0540-0244-450e-c764-7e86c8ba1263"
      },
      "outputs": [
        {
          "data": {
            "text/plain": [
              "['What', 'a', 'lovely', 'day', 'it', 'is', 'today', '!']"
            ]
          },
          "execution_count": 9,
          "metadata": {},
          "output_type": "execute_result"
        }
      ],
      "source": [
        "string = \"What a lovely day it is today!\"\n",
        "[token.text for token in en_nlp.tokenizer(string)]"
      ]
    },
    {
      "cell_type": "markdown",
      "metadata": {
        "id": "n2cXKI1muLOD"
      },
      "source": [
        "## Prepare data"
      ]
    },
    {
      "cell_type": "code",
      "execution_count": null,
      "metadata": {
        "id": "mQSzVMaluLOE"
      },
      "outputs": [],
      "source": [
        "def tokenized_text(text, nlp, is_lower = True):\n",
        "    if is_lower:\n",
        "        text = str(text).lower()\n",
        "    tokens = [token.text for token in nlp.tokenizer(text)]\n",
        "    return tokens"
      ]
    },
    {
      "cell_type": "code",
      "execution_count": null,
      "metadata": {
        "id": "VwY2lOO-uLOE"
      },
      "outputs": [],
      "source": [
        "## train\n",
        "train_df['en_tokens'] = train_df.en.map(lambda x: tokenized_text(x, en_nlp))\n",
        "train_df['de_tokens'] = train_df.de.map(lambda x: tokenized_text(x, de_nlp))\n",
        "## val\n",
        "val_df['en_tokens'] = val_df.en.map(lambda x: tokenized_text(x, en_nlp))\n",
        "val_df['de_tokens'] = val_df.de.map(lambda x: tokenized_text(x, de_nlp))\n",
        "## test\n",
        "test_df['en_tokens'] = test_df.en.map(lambda x: tokenized_text(x, en_nlp))\n",
        "test_df['de_tokens'] = test_df.de.map(lambda x: tokenized_text(x, de_nlp))"
      ]
    },
    {
      "cell_type": "code",
      "execution_count": null,
      "metadata": {
        "id": "MB18UrXVuLOE",
        "outputId": "ee650e4d-cdc9-4992-fa5b-0dae978ea0c3"
      },
      "outputs": [
        {
          "data": {
            "text/html": [
              "<div>\n",
              "<style scoped>\n",
              "    .dataframe tbody tr th:only-of-type {\n",
              "        vertical-align: middle;\n",
              "    }\n",
              "\n",
              "    .dataframe tbody tr th {\n",
              "        vertical-align: top;\n",
              "    }\n",
              "\n",
              "    .dataframe thead th {\n",
              "        text-align: right;\n",
              "    }\n",
              "</style>\n",
              "<table border=\"1\" class=\"dataframe\">\n",
              "  <thead>\n",
              "    <tr style=\"text-align: right;\">\n",
              "      <th></th>\n",
              "      <th>en</th>\n",
              "      <th>de</th>\n",
              "      <th>en_tokens</th>\n",
              "      <th>de_tokens</th>\n",
              "    </tr>\n",
              "  </thead>\n",
              "  <tbody>\n",
              "    <tr>\n",
              "      <th>0</th>\n",
              "      <td>Two young, White males are outside near many b...</td>\n",
              "      <td>Zwei junge weiße Männer sind im Freien in der ...</td>\n",
              "      <td>[two, young, ,, white, males, are, outside, ne...</td>\n",
              "      <td>[zwei, junge, weiße, männer, sind, im, freien,...</td>\n",
              "    </tr>\n",
              "    <tr>\n",
              "      <th>1</th>\n",
              "      <td>Several men in hard hats are operating a giant...</td>\n",
              "      <td>Mehrere Männer mit Schutzhelmen bedienen ein A...</td>\n",
              "      <td>[several, men, in, hard, hats, are, operating,...</td>\n",
              "      <td>[mehrere, männer, mit, schutzhelmen, bedienen,...</td>\n",
              "    </tr>\n",
              "    <tr>\n",
              "      <th>2</th>\n",
              "      <td>A little girl climbing into a wooden playhouse.</td>\n",
              "      <td>Ein kleines Mädchen klettert in ein Spielhaus ...</td>\n",
              "      <td>[a, little, girl, climbing, into, a, wooden, p...</td>\n",
              "      <td>[ein, kleines, mädchen, klettert, in, ein, spi...</td>\n",
              "    </tr>\n",
              "  </tbody>\n",
              "</table>\n",
              "</div>"
            ],
            "text/plain": [
              "                                                  en  \\\n",
              "0  Two young, White males are outside near many b...   \n",
              "1  Several men in hard hats are operating a giant...   \n",
              "2    A little girl climbing into a wooden playhouse.   \n",
              "\n",
              "                                                  de  \\\n",
              "0  Zwei junge weiße Männer sind im Freien in der ...   \n",
              "1  Mehrere Männer mit Schutzhelmen bedienen ein A...   \n",
              "2  Ein kleines Mädchen klettert in ein Spielhaus ...   \n",
              "\n",
              "                                           en_tokens  \\\n",
              "0  [two, young, ,, white, males, are, outside, ne...   \n",
              "1  [several, men, in, hard, hats, are, operating,...   \n",
              "2  [a, little, girl, climbing, into, a, wooden, p...   \n",
              "\n",
              "                                           de_tokens  \n",
              "0  [zwei, junge, weiße, männer, sind, im, freien,...  \n",
              "1  [mehrere, männer, mit, schutzhelmen, bedienen,...  \n",
              "2  [ein, kleines, mädchen, klettert, in, ein, spi...  "
            ]
          },
          "execution_count": 13,
          "metadata": {},
          "output_type": "execute_result"
        }
      ],
      "source": [
        "train_df.head(3)"
      ]
    },
    {
      "cell_type": "markdown",
      "metadata": {
        "id": "i5TtBsj6uLOE"
      },
      "source": [
        "## Build Vocab"
      ]
    },
    {
      "cell_type": "code",
      "execution_count": null,
      "metadata": {
        "id": "AM6ToCa_uLOE",
        "outputId": "5dbd4d34-2b33-426a-f703-2af6bd129576"
      },
      "outputs": [
        {
          "name": "stdout",
          "output_type": "stream",
          "text": [
            "en_vocab : 9795\n",
            "de_vocab : 18669\n"
          ]
        }
      ],
      "source": [
        "special_words = [\"<unk>\",\"<pad>\", \"<sos>\",\"<eos>\"]\n",
        "en_words = list(set(itertools.chain.from_iterable(train_df.en_tokens.tolist())))\n",
        "de_words = list(set(itertools.chain.from_iterable(train_df.de_tokens.tolist())))\n",
        "\n",
        "en_words = special_words + en_words\n",
        "de_words = special_words + de_words\n",
        "\n",
        "en_vocab = {w:i for i,w in enumerate(en_words)}\n",
        "de_vocab = {w:i for i,w in enumerate(de_words)}\n",
        "\n",
        "UNK_ID = en_vocab['<unk>']\n",
        "PAD_ID = en_vocab['<pad>']\n",
        "SOS_ID = en_vocab['<sos>']\n",
        "EOS_ID = en_vocab['<eos>']\n",
        "\n",
        "print(f\"en_vocab : {len(en_vocab)}\")\n",
        "print(f\"de_vocab : {len(de_vocab)}\")"
      ]
    },
    {
      "cell_type": "markdown",
      "metadata": {
        "id": "PQ60-earuLOE"
      },
      "source": [
        "## Encode text"
      ]
    },
    {
      "cell_type": "code",
      "execution_count": null,
      "metadata": {
        "id": "ybsJduCGuLOE"
      },
      "outputs": [],
      "source": [
        "def encode_tokens(tokens, vocab):\n",
        "    encoded = []\n",
        "    for w in tokens:\n",
        "        encoded.append(vocab.get(w, UNK_ID))\n",
        "    ## adding SOS & EOS\n",
        "    encoded = [SOS_ID] + encoded + [EOS_ID]\n",
        "    return encoded"
      ]
    },
    {
      "cell_type": "code",
      "execution_count": null,
      "metadata": {
        "id": "-2Mt0X6luLOE"
      },
      "outputs": [],
      "source": [
        "## train\n",
        "train_df['en_encoded'] = train_df.en_tokens.apply(lambda x: encode_tokens(x, en_vocab))\n",
        "train_df['de_encoded'] = train_df.de_tokens.apply(lambda x: encode_tokens(x, de_vocab))\n",
        "## val\n",
        "val_df['en_encoded'] = val_df.en_tokens.apply(lambda x: encode_tokens(x, en_vocab))\n",
        "val_df['de_encoded'] = val_df.de_tokens.apply(lambda x: encode_tokens(x, de_vocab))\n",
        "## test\n",
        "test_df['en_encoded'] = test_df.en_tokens.apply(lambda x: encode_tokens(x, en_vocab))\n",
        "test_df['de_encoded'] = test_df.de_tokens.apply(lambda x: encode_tokens(x, de_vocab))"
      ]
    },
    {
      "cell_type": "code",
      "execution_count": null,
      "metadata": {
        "id": "iZ137mAGuLOF",
        "outputId": "e5fdc66b-1400-4e04-fa56-abd76f8842b3"
      },
      "outputs": [
        {
          "data": {
            "text/html": [
              "<div>\n",
              "<style scoped>\n",
              "    .dataframe tbody tr th:only-of-type {\n",
              "        vertical-align: middle;\n",
              "    }\n",
              "\n",
              "    .dataframe tbody tr th {\n",
              "        vertical-align: top;\n",
              "    }\n",
              "\n",
              "    .dataframe thead th {\n",
              "        text-align: right;\n",
              "    }\n",
              "</style>\n",
              "<table border=\"1\" class=\"dataframe\">\n",
              "  <thead>\n",
              "    <tr style=\"text-align: right;\">\n",
              "      <th></th>\n",
              "      <th>en</th>\n",
              "      <th>de</th>\n",
              "      <th>en_tokens</th>\n",
              "      <th>de_tokens</th>\n",
              "      <th>en_encoded</th>\n",
              "      <th>de_encoded</th>\n",
              "    </tr>\n",
              "  </thead>\n",
              "  <tbody>\n",
              "    <tr>\n",
              "      <th>0</th>\n",
              "      <td>Two young, White males are outside near many b...</td>\n",
              "      <td>Zwei junge weiße Männer sind im Freien in der ...</td>\n",
              "      <td>[two, young, ,, white, males, are, outside, ne...</td>\n",
              "      <td>[zwei, junge, weiße, männer, sind, im, freien,...</td>\n",
              "      <td>[2, 5541, 9748, 8668, 7232, 8020, 7823, 8151, ...</td>\n",
              "      <td>[2, 2385, 11534, 14627, 3930, 14243, 13553, 53...</td>\n",
              "    </tr>\n",
              "    <tr>\n",
              "      <th>1</th>\n",
              "      <td>Several men in hard hats are operating a giant...</td>\n",
              "      <td>Mehrere Männer mit Schutzhelmen bedienen ein A...</td>\n",
              "      <td>[several, men, in, hard, hats, are, operating,...</td>\n",
              "      <td>[mehrere, männer, mit, schutzhelmen, bedienen,...</td>\n",
              "      <td>[2, 1284, 5992, 1851, 9535, 2874, 7823, 3462, ...</td>\n",
              "      <td>[2, 14301, 3930, 12728, 1589, 2399, 283, 6457,...</td>\n",
              "    </tr>\n",
              "    <tr>\n",
              "      <th>2</th>\n",
              "      <td>A little girl climbing into a wooden playhouse.</td>\n",
              "      <td>Ein kleines Mädchen klettert in ein Spielhaus ...</td>\n",
              "      <td>[a, little, girl, climbing, into, a, wooden, p...</td>\n",
              "      <td>[ein, kleines, mädchen, klettert, in, ein, spi...</td>\n",
              "      <td>[2, 7839, 5797, 7125, 2508, 2498, 7839, 5052, ...</td>\n",
              "      <td>[2, 283, 5511, 2398, 11884, 3497, 283, 4337, 1...</td>\n",
              "    </tr>\n",
              "  </tbody>\n",
              "</table>\n",
              "</div>"
            ],
            "text/plain": [
              "                                                  en  \\\n",
              "0  Two young, White males are outside near many b...   \n",
              "1  Several men in hard hats are operating a giant...   \n",
              "2    A little girl climbing into a wooden playhouse.   \n",
              "\n",
              "                                                  de  \\\n",
              "0  Zwei junge weiße Männer sind im Freien in der ...   \n",
              "1  Mehrere Männer mit Schutzhelmen bedienen ein A...   \n",
              "2  Ein kleines Mädchen klettert in ein Spielhaus ...   \n",
              "\n",
              "                                           en_tokens  \\\n",
              "0  [two, young, ,, white, males, are, outside, ne...   \n",
              "1  [several, men, in, hard, hats, are, operating,...   \n",
              "2  [a, little, girl, climbing, into, a, wooden, p...   \n",
              "\n",
              "                                           de_tokens  \\\n",
              "0  [zwei, junge, weiße, männer, sind, im, freien,...   \n",
              "1  [mehrere, männer, mit, schutzhelmen, bedienen,...   \n",
              "2  [ein, kleines, mädchen, klettert, in, ein, spi...   \n",
              "\n",
              "                                          en_encoded  \\\n",
              "0  [2, 5541, 9748, 8668, 7232, 8020, 7823, 8151, ...   \n",
              "1  [2, 1284, 5992, 1851, 9535, 2874, 7823, 3462, ...   \n",
              "2  [2, 7839, 5797, 7125, 2508, 2498, 7839, 5052, ...   \n",
              "\n",
              "                                          de_encoded  \n",
              "0  [2, 2385, 11534, 14627, 3930, 14243, 13553, 53...  \n",
              "1  [2, 14301, 3930, 12728, 1589, 2399, 283, 6457,...  \n",
              "2  [2, 283, 5511, 2398, 11884, 3497, 283, 4337, 1...  "
            ]
          },
          "execution_count": 17,
          "metadata": {},
          "output_type": "execute_result"
        }
      ],
      "source": [
        "train_df.head(3)"
      ]
    },
    {
      "cell_type": "markdown",
      "metadata": {
        "id": "PKXdV351uLOF"
      },
      "source": [
        "## Data Loaders"
      ]
    },
    {
      "cell_type": "code",
      "execution_count": null,
      "metadata": {
        "id": "OHBLkHTRuLOF"
      },
      "outputs": [],
      "source": [
        "train_data = train_df[['en_encoded','de_encoded']].to_dict('records')\n",
        "val_data = val_df[['en_encoded','de_encoded']].to_dict('records')\n",
        "test_data = test_df[['en_encoded','de_encoded']].to_dict('records')"
      ]
    },
    {
      "cell_type": "code",
      "execution_count": null,
      "metadata": {
        "id": "_ogeadD9uLOF",
        "outputId": "2bb4dc00-f732-4b2f-f6b7-0ad459860392"
      },
      "outputs": [
        {
          "name": "stdout",
          "output_type": "stream",
          "text": [
            "[{'de_encoded': [2, 2385, 11534, 14627, 3930, 14243, 13553, 5325, 3497, 4550,\n",
            "                 5601, 4632, 8111, 5154, 3],\n",
            "  'en_encoded': [2, 5541, 9748, 8668, 7232, 8020, 7823, 8151, 3040, 1491, 6715,\n",
            "                 2734, 3]},\n",
            " {'de_encoded': [2, 14301, 3930, 12728, 1589, 2399, 283, 6457, 5154, 3],\n",
            "  'en_encoded': [2, 1284, 5992, 1851, 9535, 2874, 7823, 3462, 7839, 1938, 164,\n",
            "                 7192, 2734, 3]}]\n"
          ]
        }
      ],
      "source": [
        "pprint(train_data[:2], compact=True)"
      ]
    },
    {
      "cell_type": "code",
      "execution_count": null,
      "metadata": {
        "id": "NhRInc6ouLOF"
      },
      "outputs": [],
      "source": [
        "def custom_collate(batch):\n",
        "    \"\"\"\n",
        "    Dynamic padding : find the max len in the batch and do the padding\n",
        "    \"\"\"\n",
        "    en_batch = [torch.tensor(item['en_encoded']) for item in batch]\n",
        "    de_batch = [torch.tensor(item['de_encoded']) for item in batch]\n",
        "\n",
        "    padded_en = nn.utils.rnn.pad_sequence(en_batch, batch_first= True, padding_value= PAD_ID)\n",
        "    padded_de = nn.utils.rnn.pad_sequence(de_batch, batch_first= True, padding_value= PAD_ID)\n",
        "\n",
        "    return {\"padded_en\": padded_en, \"padded_de\":  padded_de}"
      ]
    },
    {
      "cell_type": "code",
      "execution_count": null,
      "metadata": {
        "id": "J0bvLGTPuLOF",
        "outputId": "c3df0ffa-6967-4c87-ec92-088fb33bd6c5"
      },
      "outputs": [
        {
          "name": "stdout",
          "output_type": "stream",
          "text": [
            "torch.Size([3, 14]) torch.Size([3, 15])\n"
          ]
        }
      ],
      "source": [
        "batch_size = 3\n",
        "train_dl = DataLoader(train_data , batch_size = batch_size, shuffle = False, collate_fn= custom_collate)\n",
        "example = next(iter(train_dl))\n",
        "padded_en, padded_de = example['padded_en'],example['padded_de']\n",
        "print(padded_en.shape, padded_de.shape)"
      ]
    },
    {
      "cell_type": "code",
      "execution_count": null,
      "metadata": {
        "id": "hf4cO1nluLOF",
        "outputId": "4cf26d46-cc44-412b-8cb6-98d27fa33126"
      },
      "outputs": [
        {
          "data": {
            "text/plain": [
              "tensor([[   2, 5541, 9748, 8668, 7232, 8020, 7823, 8151, 3040, 1491, 6715, 2734,\n",
              "            3,    1],\n",
              "        [   2, 1284, 5992, 1851, 9535, 2874, 7823, 3462, 7839, 1938,  164, 7192,\n",
              "         2734,    3],\n",
              "        [   2, 7839, 5797, 7125, 2508, 2498, 7839, 5052, 5598, 2734,    3,    1,\n",
              "            1,    1]])"
            ]
          },
          "execution_count": 22,
          "metadata": {},
          "output_type": "execute_result"
        }
      ],
      "source": [
        "padded_en"
      ]
    },
    {
      "cell_type": "code",
      "execution_count": null,
      "metadata": {
        "id": "sp1orieauLOF",
        "outputId": "68c4b2db-c29a-417c-9dc5-c9ce6143eebe"
      },
      "outputs": [
        {
          "data": {
            "text/plain": [
              "tensor([[    2,  2385, 11534, 14627,  3930, 14243, 13553,  5325,  3497,  4550,\n",
              "          5601,  4632,  8111,  5154,     3],\n",
              "        [    2, 14301,  3930, 12728,  1589,  2399,   283,  6457,  5154,     3,\n",
              "             1,     1,     1,     1,     1],\n",
              "        [    2,   283,  5511,  2398, 11884,  3497,   283,  4337,  1523,  1491,\n",
              "          5154,     3,     1,     1,     1]])"
            ]
          },
          "execution_count": 23,
          "metadata": {},
          "output_type": "execute_result"
        }
      ],
      "source": [
        "padded_de"
      ]
    },
    {
      "cell_type": "code",
      "execution_count": null,
      "metadata": {
        "id": "ehbSe30IuLOF"
      },
      "outputs": [],
      "source": [
        "## dataloaders\n",
        "batch_size = 512\n",
        "train_dl = DataLoader(train_data , batch_size = batch_size, shuffle = True, collate_fn= custom_collate)\n",
        "val_dl = DataLoader(val_data , batch_size = batch_size, shuffle = False, collate_fn= custom_collate)\n",
        "test_dl = DataLoader(test_data , batch_size = batch_size, shuffle = False, collate_fn= custom_collate)"
      ]
    },
    {
      "cell_type": "markdown",
      "metadata": {
        "id": "sqPAIOZkuLOG"
      },
      "source": [
        "## Building Model"
      ]
    },
    {
      "cell_type": "code",
      "execution_count": null,
      "metadata": {
        "id": "4C7JoRAluLOG"
      },
      "outputs": [],
      "source": [
        "class Encoder(nn.Module):\n",
        "    \"\"\"\n",
        "    Encode German text\n",
        "    \"\"\"\n",
        "    def __init__(self, vocab_size, emb_dim, encoder_hidden_dim, decoder_hidden_dim, dropout, n_layers, bidirectional):\n",
        "        super().__init__()\n",
        "        self.embedding = nn.Embedding(vocab_size, emb_dim)\n",
        "        self.rnn = nn.GRU(emb_dim, encoder_hidden_dim, dropout=dropout, num_layers = n_layers, bidirectional = bidirectional, batch_first= True)\n",
        "        self.linear = nn.Linear(encoder_hidden_dim * 2 if bidirectional else encoder_hidden_dim, decoder_hidden_dim)\n",
        "        self.dropout = nn.Dropout(dropout)\n",
        "\n",
        "    def forward(self, batch, verbose = False):\n",
        "        # batch : [batch size, sent len]\n",
        "        embedded = self.dropout(self.embedding(batch))\n",
        "        # embedded : [batch size, sent len , emb dim]\n",
        "        output, hidden = self.rnn(embedded)\n",
        "        # output : [batch size, sent len, hidden dim * num directions]\n",
        "        # hidden : [n_layers * num directions, batch size, sent len]\n",
        "\n",
        "        # outputs are always from the last layer\n",
        "        # hidden [-2, :, : ] is the last of the forwards RNN\n",
        "        # hidden [-1, :, : ] is the last of the backwards RNN\n",
        "\n",
        "        combined_hidden = torch.cat((hidden[-2, :, :], hidden[-1, :, :]), dim=1)\n",
        "        final_hidden = torch.tanh(self.linear(combined_hidden))\n",
        "\n",
        "        if verbose:\n",
        "            print(f'input : {batch.shape}')\n",
        "            print(f'embedded : {embedded.shape}')\n",
        "            print(f'output : {output.shape}')\n",
        "            print(f'hidden : {hidden.shape}')\n",
        "            print(f'combined_hidden : {combined_hidden.shape}')\n",
        "            print(f'final_hidden : {final_hidden.shape}')\n",
        "\n",
        "        return output, final_hidden"
      ]
    },
    {
      "cell_type": "code",
      "execution_count": null,
      "metadata": {
        "id": "SxigbFt1uLOG"
      },
      "outputs": [],
      "source": [
        "## Config\n",
        "encoder_bidirectional = True\n",
        "encoder_hidden_dim = 32\n",
        "decoder_hidden_dim = 128"
      ]
    },
    {
      "cell_type": "code",
      "execution_count": null,
      "metadata": {
        "id": "8Jgiw7QmuLOG",
        "outputId": "a806ea91-9eb9-4b9e-bca4-3891fec2a87a"
      },
      "outputs": [
        {
          "name": "stdout",
          "output_type": "stream",
          "text": [
            "input : torch.Size([3, 15])\n",
            "embedded : torch.Size([3, 15, 100])\n",
            "output : torch.Size([3, 15, 64])\n",
            "hidden : torch.Size([4, 3, 32])\n",
            "combined_hidden : torch.Size([3, 64])\n",
            "final_hidden : torch.Size([3, 128])\n"
          ]
        }
      ],
      "source": [
        "## Enoder\n",
        "encoder = Encoder(vocab_size = len(de_vocab), emb_dim = 100, encoder_hidden_dim=encoder_hidden_dim,\n",
        "                  decoder_hidden_dim = decoder_hidden_dim,\n",
        "                  dropout=0.1, n_layers= 2, bidirectional= encoder_bidirectional)\n",
        "output, hidden = encoder(padded_de, verbose = True)"
      ]
    },
    {
      "cell_type": "code",
      "execution_count": null,
      "metadata": {
        "id": "uuzEDA50uLOG"
      },
      "outputs": [],
      "source": [
        "class Attention(nn.Module):\n",
        "    def __init__(self, encoder_hidden_dim, decoder_hidden_dim, encoder_bidirectional):\n",
        "        super().__init__()\n",
        "        self.attn_fc = nn.Linear((encoder_hidden_dim * 2 if encoder_bidirectional else encoder_hidden_dim) + decoder_hidden_dim, decoder_hidden_dim)\n",
        "        self.v_fc = nn.Linear(decoder_hidden_dim, 1, bias=False)\n",
        "\n",
        "    def forward(self, hidden, encoder_outputs):\n",
        "        # hidden = [batch size, decoder hidden dim]\n",
        "        # encoder_outputs = [batch size, src length, encoder hidden dim * encoder num direction]\n",
        "        batch_size, src_length = encoder_outputs.shape[0], encoder_outputs.shape[1]\n",
        "\n",
        "        # repeat decoder hidden state src_length times\n",
        "        hidden = hidden.unsqueeze(1).repeat(1, src_length, 1)\n",
        "        # hidden = [batch size, src length, decoder hidden dim]\n",
        "        # encoder_outputs = [batch size, src length, encoder hidden dim * encoder num direction]\n",
        "        energy = torch.tanh(self.attn_fc(torch.cat((hidden, encoder_outputs), dim=2)))\n",
        "        # energy = [batch size, src length, decoder hidden dim]\n",
        "        attention = self.v_fc(energy).squeeze(2)\n",
        "        # attention = [batch size, src length]\n",
        "        return torch.softmax(attention, dim=1)"
      ]
    },
    {
      "cell_type": "code",
      "execution_count": null,
      "metadata": {
        "id": "sc0YQsfTuLOG"
      },
      "outputs": [],
      "source": [
        "class Decoder(nn.Module):\n",
        "    def __init__(self, vocab_size, emb_dim, encoder_hidden_dim,decoder_hidden_dim, dropout, attention, encoder_bidirectional):\n",
        "        super().__init__()\n",
        "        self.vocab_size = vocab_size\n",
        "        self.attention = attention\n",
        "        self.embedding = nn.Embedding(vocab_size, emb_dim)\n",
        "        self.rnn = nn.GRU((encoder_hidden_dim * 2 if encoder_bidirectional else encoder_hidden_dim) + emb_dim, decoder_hidden_dim, dropout=dropout, batch_first= True)\n",
        "        self.fc_out = nn.Linear((encoder_hidden_dim * 2 if encoder_bidirectional else encoder_hidden_dim) + decoder_hidden_dim + emb_dim, vocab_size)\n",
        "        self.dropout = nn.Dropout(dropout)\n",
        "\n",
        "    def forward(self, input, hidden, encoder_outputs):\n",
        "\n",
        "        # input = [batch size]\n",
        "        # hidden = [batch size, decoder hidden dim]\n",
        "        # encoder_outputs = [batch size, src length, encoder hidden dim * encoder num direction]\n",
        "        # print(f'hidden : {hidden.shape}')\n",
        "        # print(f'encoder_outputs : {encoder_outputs.shape}')\n",
        "\n",
        "        input = input.unsqueeze(1)\n",
        "        # input = [batch size, 1]\n",
        "        # print(f'input : {input.shape}')\n",
        "\n",
        "        embedded = self.dropout(self.embedding(input))\n",
        "        # embedded = [batch size, 1, embedding dim]\n",
        "        # print(f'embedded : {embedded.shape}')\n",
        "\n",
        "        a = self.attention(hidden, encoder_outputs)\n",
        "        # a = [batch size, src length]\n",
        "        a = a.unsqueeze(dim = 1)\n",
        "        # a = [batch size, 1, src length]\n",
        "        # print(f'a : {a.shape}')\n",
        "\n",
        "\n",
        "        weighted = torch.bmm(a, encoder_outputs)\n",
        "        # weighted = [batch size, 1, encoder hidden dim * encoder n_direction]\n",
        "        # print(f'weighted : {weighted.shape}')\n",
        "\n",
        "\n",
        "        rnn_input = torch.cat((embedded, weighted), dim=2)\n",
        "        # rnn_input = [batch size, 1, (encoder hidden dim * encoder n_direction) + embedding dim]\n",
        "        # print(f'rnn_input : {rnn_input.shape}')\n",
        "\n",
        "\n",
        "        output, hidden = self.rnn(rnn_input, hidden.unsqueeze(0))\n",
        "        # output = [seq length, batch size, decoder hid dim * n directions]\n",
        "        # hidden = [n layers * n directions, batch size, decoder hid dim]\n",
        "        # seq len, n layers and n directions will always be 1 in this decoder, therefore:\n",
        "        # output = [1, batch size, decoder hidden dim]\n",
        "        # hidden = [1, batch size, decoder hidden dim]\n",
        "        # this also means that output == hidden\n",
        "\n",
        "        # print(f'output : {output.shape}')\n",
        "        # print(f'hidden : {hidden.shape}')\n",
        "\n",
        "        embedded = embedded.squeeze(1)\n",
        "        output = output.squeeze(1)\n",
        "        weighted = weighted.squeeze(1)\n",
        "\n",
        "        # print(f'embedded : {embedded.shape}')\n",
        "        # print(f'weighted : {weighted.shape}')\n",
        "        # print(f'output : {output.shape}')\n",
        "\n",
        "        prediction = self.fc_out(torch.cat((output, weighted, embedded), dim=1))\n",
        "        # prediction = [batch size, output dim]\n",
        "        # print(f'prediction : {prediction.shape}')\n",
        "        return prediction, hidden.squeeze(0), a.squeeze(1)"
      ]
    },
    {
      "cell_type": "code",
      "execution_count": null,
      "metadata": {
        "id": "0lG-nc2fuLOH",
        "outputId": "51279059-e167-4545-8e65-c7fb153e0a27"
      },
      "outputs": [
        {
          "name": "stdout",
          "output_type": "stream",
          "text": [
            "torch.Size([3, 9795]) torch.Size([3, 128]) torch.Size([3, 15])\n"
          ]
        }
      ],
      "source": [
        "## Decoder\n",
        "## de[:,0] -> first input\n",
        "attention = Attention(encoder_hidden_dim, decoder_hidden_dim, encoder_bidirectional = encoder_bidirectional)\n",
        "decoder = Decoder(vocab_size = len(en_vocab),\n",
        "                  emb_dim = 100,\n",
        "                  encoder_hidden_dim = encoder_hidden_dim,\n",
        "                  decoder_hidden_dim = decoder_hidden_dim,\n",
        "                  dropout = 0.1,\n",
        "                  attention = attention,\n",
        "                  encoder_bidirectional = encoder_bidirectional)\n",
        "prediction, hidden, a = decoder(padded_en[:,0], hidden, output)\n",
        "print(prediction.shape, hidden.shape, a.shape)"
      ]
    },
    {
      "cell_type": "code",
      "execution_count": null,
      "metadata": {
        "id": "0MeI9nQNuLOH"
      },
      "outputs": [],
      "source": [
        "class Seq2Seq(nn.Module):\n",
        "    def __init__(self, encoder, decoder, device):\n",
        "        super().__init__()\n",
        "        self.encoder = encoder\n",
        "        self.decoder = decoder\n",
        "        self.device = device\n",
        "\n",
        "    def forward(self, src, trg, teacher_forcing_ratio):\n",
        "        # src = [batch size, sent len]\n",
        "        # trg = [batch size, sent len]\n",
        "        # teacher_forcing_ratio is probability to use teacher forcing\n",
        "        # e.g. if teacher_forcing_ratio is 0.75 we use ground-truth inputs 75% of the time\n",
        "        batch_size = trg.shape[0]\n",
        "        trg_length = trg.shape[1]\n",
        "        trg_vocab_size = self.decoder.vocab_size\n",
        "        # tensor to store decoder outputs\n",
        "        outputs = torch.zeros(batch_size,trg_length,trg_vocab_size).to(self.device)\n",
        "        # encoder_outputs is all hidden states of the input sequence, back and forwards\n",
        "        # hidden is the final forward and backward hidden states, passed through a linear layer\n",
        "        encoder_outputs, hidden = self.encoder(src)\n",
        "        # outputs = [src length, batch size, encoder hidden dim * 2]\n",
        "        # hidden = [batch size, decoder hidden dim]\n",
        "        # first input to the decoder is the <sos> tokens\n",
        "        input = trg[:,0]\n",
        "        # input = [batch size]\n",
        "        for t in range(1, trg_length):\n",
        "            # insert input token embedding, previous hidden and previous cell states\n",
        "            # receive output tensor (predictions) and new hidden and cell states\n",
        "            output, hidden, _ = self.decoder(input, hidden, encoder_outputs)\n",
        "            # output = [batch size, output dim]\n",
        "            # hidden = [n layers, batch size, decoder hidden dim]\n",
        "            # place predictions in a tensor holding predictions for each token\n",
        "            output = output.squeeze(dim = 1)\n",
        "            outputs[:,t,:] = output\n",
        "            # decide if we are going to use teacher forcing or not\n",
        "            teacher_force = random.random() < teacher_forcing_ratio\n",
        "            # get the highest predicted token from our predictions\n",
        "            top1 = output.argmax(1)\n",
        "            # if teacher forcing, use actual next token as next input\n",
        "            # if not, use predicted token\n",
        "            input = trg[:,t] if teacher_force else top1\n",
        "            # input = [batch size]\n",
        "        return outputs"
      ]
    },
    {
      "cell_type": "code",
      "execution_count": null,
      "metadata": {
        "id": "oy6gnnJbuLOH",
        "outputId": "b6944f69-e323-4e42-a7eb-524225504c0e"
      },
      "outputs": [
        {
          "name": "stdout",
          "output_type": "stream",
          "text": [
            "torch.Size([3, 14, 9795])\n"
          ]
        }
      ],
      "source": [
        "model = Seq2Seq(encoder, decoder, device = \"cpu\")\n",
        "outputs = model(padded_de, padded_en, teacher_forcing_ratio = True)\n",
        "print(outputs.shape)"
      ]
    },
    {
      "cell_type": "markdown",
      "metadata": {
        "id": "cVcIacAEuLOH"
      },
      "source": [
        "## Training"
      ]
    },
    {
      "cell_type": "code",
      "execution_count": null,
      "metadata": {
        "id": "rV6j52WruLOH"
      },
      "outputs": [],
      "source": [
        "class Seq2SeqLightningModel(pl.LightningModule):\n",
        "\n",
        "    def __init__(self, encode, decoder, learning_rate, device, teacher_forcing_ratio):\n",
        "        super().__init__()\n",
        "        self.learning_rate = learning_rate\n",
        "        self.teacher_forcing_ratio = teacher_forcing_ratio\n",
        "        self.encoder = encoder\n",
        "        self.decoder = decoder\n",
        "        self.seq2seq_model = Seq2Seq(self.encoder, self.decoder, device)\n",
        "        self.loss_fn = nn.CrossEntropyLoss(ignore_index=PAD_ID)\n",
        "        self.init_weights()\n",
        "\n",
        "        self.train_loss = []\n",
        "        self.val_loss = []\n",
        "        self.test_loss = []\n",
        "\n",
        "    def init_weights(self):\n",
        "        for name, param in self.named_parameters():\n",
        "            nn.init.normal_(param.data, mean=0, std=0.01)\n",
        "\n",
        "    def forward(self, de, en):\n",
        "        logits = self.seq2seq_model(de, en, teacher_forcing_ratio = self.teacher_forcing_ratio)\n",
        "        return logits\n",
        "\n",
        "    def training_step(self, batch):\n",
        "        src, trg = batch['padded_de'], batch['padded_en']\n",
        "        output = self(src, trg)\n",
        "        # output = [trg length, batch size, trg vocab size]\n",
        "        output_dim = output.shape[-1]\n",
        "        output = output[1:].view(-1, output_dim)\n",
        "        # output = [(trg length - 1) * batch size, trg vocab size]\n",
        "        trg = trg[1:].view(-1)\n",
        "        # trg = [(trg length - 1) * batch size]\n",
        "        # print(output.shape, trg.shape)\n",
        "        loss = self.loss_fn(output, trg)\n",
        "        self.train_loss.append(loss.item())\n",
        "        self.log_dict({\"train_loss\": loss}, on_step=False, on_epoch=True, prog_bar=True)\n",
        "        return loss\n",
        "\n",
        "    def validation_step(self, batch):\n",
        "        src, trg = batch['padded_de'], batch['padded_en']\n",
        "        output = self(src, trg)\n",
        "        # output = [trg length, batch size, trg vocab size]\n",
        "        output_dim = output.shape[-1]\n",
        "        output = output[1:].view(-1, output_dim)\n",
        "        # output = [(trg length - 1) * batch size, trg vocab size]\n",
        "        trg = trg[1:].view(-1)\n",
        "        # trg = [(trg length - 1) * batch size]\n",
        "        loss = self.loss_fn(output, trg)\n",
        "        self.val_loss.append(loss.item())\n",
        "        self.log_dict({\"val_loss\": loss}, on_step=False, on_epoch=True, prog_bar=True)\n",
        "        return loss\n",
        "\n",
        "    def on_validation_epoch_end(self):\n",
        "        print(f\"Epoch : {self.current_epoch}  \\\n",
        "              Train Loss : {np.mean(self.train_loss)} \\\n",
        "              Val Loss : {np.mean(self.val_loss)} \\\n",
        "              Train PPL : {np.exp(np.mean(self.train_loss))} \\\n",
        "              Val PPL : {np.exp(np.mean(self.val_loss))} \")\n",
        "\n",
        "        self.train_loss =[]\n",
        "        self.val_loss =[]\n",
        "\n",
        "\n",
        "    def test_step(self, batch):\n",
        "        src, trg = batch['padded_de'], batch['padded_en']\n",
        "        output = self(src, trg)\n",
        "        # output = [trg length, batch size, trg vocab size]\n",
        "        output_dim = output.shape[-1]\n",
        "        output = output[1:].view(-1, output_dim)\n",
        "        # output = [(trg length - 1) * batch size, trg vocab size]\n",
        "        trg = trg[1:].view(-1)\n",
        "        # trg = [(trg length - 1) * batch size]\n",
        "        loss = self.loss_fn(output, trg)\n",
        "        self.test_loss.append(loss.item())\n",
        "        return loss\n",
        "\n",
        "    def on_test_epoch_end(self) -> None:\n",
        "        print(f\"Test Loss : {np.mean(self.test_loss)}  Test PPL : {np.exp(np.mean(self.test_loss))}\")\n",
        "        self.test_loss = []\n",
        "\n",
        "    def configure_optimizers(self):\n",
        "        opt = optim.Adam(self.parameters(), lr = self.learning_rate)\n",
        "        return opt"
      ]
    },
    {
      "cell_type": "code",
      "execution_count": null,
      "metadata": {
        "id": "7wYVltPduLOI"
      },
      "outputs": [],
      "source": [
        "# ## test architecture\n",
        "# encoder = Encoder(vocab_size = len(de_vocab), emb_dim = 100, encoder_hidden_dim=encoder_hidden_dim,\n",
        "#                   decoder_hidden_dim = decoder_hidden_dim,\n",
        "#                   dropout=0.1, n_layers= 2, bidirectional= encoder_bidirectional)\n",
        "# attention = Attention(encoder_hidden_dim, decoder_hidden_dim, encoder_bidirectional = encoder_bidirectional)\n",
        "# decoder = Decoder(vocab_size = len(en_vocab),\n",
        "#                   emb_dim = 100,\n",
        "#                   encoder_hidden_dim = encoder_hidden_dim,\n",
        "#                   decoder_hidden_dim = decoder_hidden_dim,\n",
        "#                   dropout = 0.1,\n",
        "#                   attention = attention,\n",
        "#                   encoder_bidirectional = encoder_bidirectional)\n",
        "# model = Seq2SeqLightningModel(encoder, decoder, learning_rate= .001, device =\"cpu\", teacher_forcing_ratio=0.5)\n",
        "# outputs = model(padded_de, padded_en)\n",
        "# outputs.shape"
      ]
    },
    {
      "cell_type": "code",
      "execution_count": null,
      "metadata": {
        "id": "Ygtw9oafuLOI",
        "outputId": "da7a5f0f-92f3-4290-e2e1-9e02a8a13e1c",
        "colab": {
          "referenced_widgets": [
            "32b65c7af44940f08a638fa6e21c46be",
            "bb246f96ee594527ad85c4c13034ba09",
            "1ef6b82895b946ca9192df65800a42ed",
            "511f89baeb26497387b6621d5d94f8ce",
            "2bc00a63b5a247e18092208219047dcc",
            "43b1d59bf05c4365987f9c1f756eeeab",
            "ab529cddb9294737a529689eb83adf2d"
          ]
        }
      },
      "outputs": [
        {
          "name": "stderr",
          "output_type": "stream",
          "text": [
            "GPU available: True (cuda), used: True\n",
            "TPU available: False, using: 0 TPU cores\n",
            "IPU available: False, using: 0 IPUs\n",
            "HPU available: False, using: 0 HPUs\n",
            "LOCAL_RANK: 0 - CUDA_VISIBLE_DEVICES: [1]\n",
            "\n",
            "  | Name          | Type             | Params\n",
            "---------------------------------------------------\n",
            "0 | encoder       | Encoder          | 12.4 M\n",
            "1 | decoder       | Decoder          | 23.6 M\n",
            "2 | seq2seq_model | Seq2Seq          | 36.0 M\n",
            "3 | loss_fn       | CrossEntropyLoss | 0     \n",
            "---------------------------------------------------\n",
            "36.0 M    Trainable params\n",
            "0         Non-trainable params\n",
            "36.0 M    Total params\n",
            "144.029   Total estimated model params size (MB)\n"
          ]
        },
        {
          "data": {
            "application/vnd.jupyter.widget-view+json": {
              "model_id": "32b65c7af44940f08a638fa6e21c46be",
              "version_major": 2,
              "version_minor": 0
            },
            "text/plain": [
              "Sanity Checking: |          | 0/? [00:00<?, ?it/s]"
            ]
          },
          "metadata": {},
          "output_type": "display_data"
        },
        {
          "name": "stdout",
          "output_type": "stream",
          "text": [
            "Epoch : 0                Train Loss : nan               Val Loss : 9.1892991065979               Train PPL : nan               Val PPL : 9791.785575621763 \n"
          ]
        },
        {
          "name": "stderr",
          "output_type": "stream",
          "text": [
            "/home/saurabh/anaconda3/envs/lighting/lib/python3.8/site-packages/numpy/core/fromnumeric.py:3464: RuntimeWarning: Mean of empty slice.\n",
            "  return _methods._mean(a, axis=axis, dtype=dtype,\n",
            "/home/saurabh/anaconda3/envs/lighting/lib/python3.8/site-packages/numpy/core/_methods.py:192: RuntimeWarning: invalid value encountered in scalar divide\n",
            "  ret = ret.dtype.type(ret / rcount)\n",
            "/home/saurabh/anaconda3/envs/lighting/lib/python3.8/site-packages/pytorch_lightning/trainer/connectors/data_connector.py:441: The 'train_dataloader' does not have many workers which may be a bottleneck. Consider increasing the value of the `num_workers` argument` to `num_workers=15` in the `DataLoader` to improve performance.\n"
          ]
        },
        {
          "data": {
            "application/vnd.jupyter.widget-view+json": {
              "model_id": "bb246f96ee594527ad85c4c13034ba09",
              "version_major": 2,
              "version_minor": 0
            },
            "text/plain": [
              "Training: |          | 0/? [00:00<?, ?it/s]"
            ]
          },
          "metadata": {},
          "output_type": "display_data"
        },
        {
          "data": {
            "application/vnd.jupyter.widget-view+json": {
              "model_id": "1ef6b82895b946ca9192df65800a42ed",
              "version_major": 2,
              "version_minor": 0
            },
            "text/plain": [
              "Validation: |          | 0/? [00:00<?, ?it/s]"
            ]
          },
          "metadata": {},
          "output_type": "display_data"
        },
        {
          "name": "stdout",
          "output_type": "stream",
          "text": [
            "Epoch : 1                Train Loss : 5.5035089317121               Val Loss : 4.889101982116699               Train PPL : 245.55204770569037               Val PPL : 132.83423295737433 \n"
          ]
        },
        {
          "data": {
            "application/vnd.jupyter.widget-view+json": {
              "model_id": "511f89baeb26497387b6621d5d94f8ce",
              "version_major": 2,
              "version_minor": 0
            },
            "text/plain": [
              "Validation: |          | 0/? [00:00<?, ?it/s]"
            ]
          },
          "metadata": {},
          "output_type": "display_data"
        },
        {
          "name": "stdout",
          "output_type": "stream",
          "text": [
            "Epoch : 3                Train Loss : 4.601984998636079               Val Loss : 4.404259443283081               Train PPL : 99.68198799756638               Val PPL : 81.7985439463234 \n"
          ]
        },
        {
          "data": {
            "application/vnd.jupyter.widget-view+json": {
              "model_id": "2bc00a63b5a247e18092208219047dcc",
              "version_major": 2,
              "version_minor": 0
            },
            "text/plain": [
              "Validation: |          | 0/? [00:00<?, ?it/s]"
            ]
          },
          "metadata": {},
          "output_type": "display_data"
        },
        {
          "name": "stdout",
          "output_type": "stream",
          "text": [
            "Epoch : 5                Train Loss : 4.148892768642359               Val Loss : 4.072455883026123               Train PPL : 63.363803053319536               Val PPL : 58.7009483761357 \n"
          ]
        },
        {
          "data": {
            "application/vnd.jupyter.widget-view+json": {
              "model_id": "43b1d59bf05c4365987f9c1f756eeeab",
              "version_major": 2,
              "version_minor": 0
            },
            "text/plain": [
              "Validation: |          | 0/? [00:00<?, ?it/s]"
            ]
          },
          "metadata": {},
          "output_type": "display_data"
        },
        {
          "name": "stdout",
          "output_type": "stream",
          "text": [
            "Epoch : 7                Train Loss : 3.595691781294973               Val Loss : 3.7953226566314697               Train PPL : 36.44090040355712               Val PPL : 44.49258991896468 \n"
          ]
        },
        {
          "data": {
            "application/vnd.jupyter.widget-view+json": {
              "model_id": "ab529cddb9294737a529689eb83adf2d",
              "version_major": 2,
              "version_minor": 0
            },
            "text/plain": [
              "Validation: |          | 0/? [00:00<?, ?it/s]"
            ]
          },
          "metadata": {},
          "output_type": "display_data"
        },
        {
          "name": "stdout",
          "output_type": "stream",
          "text": [
            "Epoch : 9                Train Loss : 3.042349675245452               Val Loss : 3.8322120904922485               Train PPL : 20.954421521497498               Val PPL : 46.16454552016852 \n"
          ]
        },
        {
          "name": "stderr",
          "output_type": "stream",
          "text": [
            "`Trainer.fit` stopped: `max_epochs=10` reached.\n"
          ]
        }
      ],
      "source": [
        "## clear old checkpoints\n",
        "checkpoints_dir = \"checkpoints_logs\"\n",
        "if os.path.exists(checkpoints_dir):\n",
        "    shutil.rmtree(checkpoints_dir)\n",
        "\n",
        "## CONFIG\n",
        "n_layers = 2\n",
        "encoder_bidirectional = True\n",
        "encoder_emb_dim = 256\n",
        "decoder_emb_dim = 256\n",
        "encoder_hidden_dim = 512\n",
        "decoder_hidden_dim = 512\n",
        "encoder_dropout = 0.5\n",
        "decoder_dropout = 0.5\n",
        "\n",
        "\n",
        "## Model Training\n",
        "encoder = Encoder(vocab_size = len(de_vocab),\n",
        "                  emb_dim = encoder_emb_dim,\n",
        "                  encoder_hidden_dim=encoder_hidden_dim,\n",
        "                  decoder_hidden_dim = decoder_hidden_dim,\n",
        "                  dropout=0.1,\n",
        "                  n_layers= 2,\n",
        "                  bidirectional= encoder_bidirectional)\n",
        "\n",
        "attention = Attention(encoder_hidden_dim, decoder_hidden_dim, encoder_bidirectional = encoder_bidirectional)\n",
        "\n",
        "decoder = Decoder(vocab_size = len(en_vocab),\n",
        "                  emb_dim = decoder_emb_dim,\n",
        "                  encoder_hidden_dim = encoder_hidden_dim,\n",
        "                  decoder_hidden_dim = decoder_hidden_dim,\n",
        "                  dropout = 0.1,\n",
        "                  attention = attention,\n",
        "                  encoder_bidirectional = encoder_bidirectional)\n",
        "model = Seq2SeqLightningModel(encoder, decoder, learning_rate= .001, device =\"cuda\", teacher_forcing_ratio=0.5)\n",
        "\n",
        "callbacks = pl.callbacks.ModelCheckpoint(dirpath = checkpoints_dir,\n",
        "                                         filename = '{epoch}-{val_loss:.2f}',\n",
        "                                          mode = \"min\",\n",
        "                                          monitor = \"val_loss\",\n",
        "                                          save_last = True,\n",
        "                                          save_top_k=-1)\n",
        "\n",
        "\n",
        "trainer = pl.Trainer(accelerator= \"gpu\",\n",
        "           max_epochs=10,\n",
        "           check_val_every_n_epoch = 2,\n",
        "           gradient_clip_val=1,\n",
        "           gradient_clip_algorithm=\"value\",\n",
        "           callbacks = [callbacks])\n",
        "\n",
        "trainer.fit(model, train_dl, val_dl)"
      ]
    },
    {
      "cell_type": "code",
      "execution_count": null,
      "metadata": {
        "id": "hp0BQlA-uLOI",
        "outputId": "fea4b2d6-7e6b-403c-88fc-b4d0dd358052",
        "colab": {
          "referenced_widgets": [
            "2a61780536284616a287d1358984fc1b"
          ]
        }
      },
      "outputs": [
        {
          "name": "stderr",
          "output_type": "stream",
          "text": [
            "LOCAL_RANK: 0 - CUDA_VISIBLE_DEVICES: [1]\n",
            "/home/saurabh/anaconda3/envs/lighting/lib/python3.8/site-packages/pytorch_lightning/trainer/connectors/data_connector.py:441: The 'test_dataloader' does not have many workers which may be a bottleneck. Consider increasing the value of the `num_workers` argument` to `num_workers=15` in the `DataLoader` to improve performance.\n"
          ]
        },
        {
          "data": {
            "application/vnd.jupyter.widget-view+json": {
              "model_id": "2a61780536284616a287d1358984fc1b",
              "version_major": 2,
              "version_minor": 0
            },
            "text/plain": [
              "Testing: |          | 0/? [00:00<?, ?it/s]"
            ]
          },
          "metadata": {},
          "output_type": "display_data"
        },
        {
          "name": "stdout",
          "output_type": "stream",
          "text": [
            "Test Loss : 3.358778476715088  Test PPL : 28.7540456819384\n"
          ]
        },
        {
          "data": {
            "text/plain": [
              "[{}]"
            ]
          },
          "execution_count": 122,
          "metadata": {},
          "output_type": "execute_result"
        }
      ],
      "source": [
        "## if test dataset has loss near around val loss that means we are not overfitting\n",
        "model = model.eval()\n",
        "trainer.test(model, dataloaders= test_dl)"
      ]
    },
    {
      "cell_type": "markdown",
      "metadata": {
        "id": "hXUr_dXNuLOI"
      },
      "source": [
        "## Predict"
      ]
    },
    {
      "cell_type": "code",
      "execution_count": null,
      "metadata": {
        "id": "YJnYoK38uLOI"
      },
      "outputs": [],
      "source": [
        "en_vocab_lookup = {i:w for w,i in en_vocab.items()}\n",
        "\n",
        "def translate_sentence(sentence,model,en_nlp,de_nlp,en_vocab,de_vocab,lower,sos_token,eos_token,device,max_output_length=25):\n",
        "    model.eval()\n",
        "    with torch.no_grad():\n",
        "        de_tokens = [token.text for token in de_nlp.tokenizer(sentence)]\n",
        "        if lower:\n",
        "            de_tokens = [token.lower() for token in de_tokens]\n",
        "        de_tokens = [sos_token] + de_tokens + [eos_token]\n",
        "\n",
        "        ids = [de_vocab.get(token, UNK_ID) for token in de_tokens]\n",
        "        tensor = torch.LongTensor(ids).unsqueeze(0).to(device)\n",
        "        encoder_outputs, hidden = model.encoder(tensor)\n",
        "\n",
        "\n",
        "        inputs = [en_vocab.get(sos_token)]\n",
        "        attentions = torch.zeros(max_output_length, 1, len(ids))\n",
        "\n",
        "        for i in range(max_output_length):\n",
        "            inputs_tensor = torch.LongTensor([inputs[-1]]).to(device)\n",
        "\n",
        "            # print(f'input tensor : {inputs_tensor.shape}')\n",
        "            # print(f'hidden : {hidden.shape}')\n",
        "            # print(f'encoder output : {encoder_outputs.shape}')\n",
        "\n",
        "            output, hidden, attention = model.decoder(inputs_tensor, hidden, encoder_outputs)\n",
        "            attentions[i] = attention\n",
        "            predicted_token = output.argmax(-1).item()\n",
        "            inputs.append(predicted_token)\n",
        "            if predicted_token == en_vocab[eos_token]:\n",
        "                break\n",
        "\n",
        "        en_tokens = [en_vocab_lookup.get(i) for i in inputs]\n",
        "    return en_tokens, de_tokens, attentions[: len(en_tokens) - 1]"
      ]
    },
    {
      "cell_type": "code",
      "execution_count": null,
      "metadata": {
        "id": "CR7-iPHluLOJ",
        "outputId": "048fee82-c161-40f2-dc6f-0c13bb0e4f62"
      },
      "outputs": [
        {
          "name": "stdout",
          "output_type": "stream",
          "text": [
            "Ein Mann mit einem orangefarbenen Hut, der etwas anstarrt.\n",
            "A man in an orange hat starring at something.\n"
          ]
        }
      ],
      "source": [
        "sentence = test_df.iloc[0]['de']\n",
        "expected_translation = test_df.iloc[0]['en']\n",
        "print(sentence)\n",
        "print(expected_translation)"
      ]
    },
    {
      "cell_type": "code",
      "execution_count": null,
      "metadata": {
        "id": "XoKijOYouLOJ"
      },
      "outputs": [],
      "source": [
        "translation, sentence_tokens, attention = translate_sentence(sentence,model,en_nlp,de_nlp,en_vocab,de_vocab,lower = True,sos_token = \"<sos>\",eos_token = \"<eos>\",device = \"cuda\")"
      ]
    },
    {
      "cell_type": "code",
      "execution_count": null,
      "metadata": {
        "id": "a6okI_rmuLOJ",
        "outputId": "2a7c9c31-3d86-40ec-c462-98116479746e"
      },
      "outputs": [
        {
          "name": "stdout",
          "output_type": "stream",
          "text": [
            "Pred :  ['<sos>', 'a', 'man', 'in', 'an', 'orange', 'hat', 'is', 'a', 'a', '.', '<eos>']\n",
            "True :  ['<sos>', 'ein', 'mann', 'mit', 'einem', 'orangefarbenen', 'hut', ',', 'der', 'etwas', 'anstarrt', '.', '<eos>']\n"
          ]
        }
      ],
      "source": [
        "print(\"Pred : \", translation)\n",
        "print(\"True : \", sentence_tokens)"
      ]
    },
    {
      "cell_type": "code",
      "execution_count": null,
      "metadata": {
        "id": "Ty2Rnmh7uLOJ"
      },
      "outputs": [],
      "source": [
        "def plot_attention(sentence, translation, attention):\n",
        "    fig, ax = plt.subplots(figsize=(10, 10))\n",
        "    attention = attention.squeeze(1).numpy()\n",
        "    cax = ax.matshow(attention, cmap=\"bone\")\n",
        "    ax.set_xticks(ticks=np.arange(len(sentence)), labels=sentence, rotation=90, size=15)\n",
        "    translation = translation[1:]\n",
        "    ax.set_yticks(ticks=np.arange(len(translation)), labels=translation, size=15)\n",
        "    plt.show()\n",
        "    plt.close()"
      ]
    },
    {
      "cell_type": "code",
      "execution_count": null,
      "metadata": {
        "id": "97mAVP-0uLOJ",
        "outputId": "5d7c26af-b90d-4a1f-eeee-c19ee796fa0c"
      },
      "outputs": [
        {
          "data": {
            "image/png": "[encoded data removed]",
            "text/plain": [
              "<Figure size 1000x1000 with 1 Axes>"
            ]
          },
          "metadata": {},
          "output_type": "display_data"
        }
      ],
      "source": [
        "plot_attention(sentence_tokens, translation, attention)"
      ]
    },
    {
      "cell_type": "markdown",
      "metadata": {
        "id": "c4fZEpUQuLOJ"
      },
      "source": [
        "## Blue Scroe"
      ]
    },
    {
      "cell_type": "code",
      "execution_count": null,
      "metadata": {
        "id": "ydzill0AuLOJ",
        "outputId": "6e3be988-5bc7-4290-dbcb-e3266680ea3f",
        "colab": {
          "referenced_widgets": [
            "c31811ef3f7e4bd288b41836c8aa2bf2"
          ]
        }
      },
      "outputs": [
        {
          "name": "stderr",
          "output_type": "stream",
          "text": [
            "/tmp/ipykernel_24154/4149176577.py:1: TqdmDeprecationWarning: This function will be removed in tqdm==5.0.0\n",
            "Please use `tqdm.notebook.tqdm` instead of `tqdm.tqdm_notebook`\n",
            "  translations = [translate_sentence(sent,model,en_nlp,de_nlp,en_vocab,de_vocab,lower = True,sos_token = \"<sos>\",eos_token = \"<eos>\",device = \"cuda\")[0] for sent in tqdm_notebook(test_df.de.values)]\n"
          ]
        },
        {
          "data": {
            "application/vnd.jupyter.widget-view+json": {
              "model_id": "c31811ef3f7e4bd288b41836c8aa2bf2",
              "version_major": 2,
              "version_minor": 0
            },
            "text/plain": [
              "  0%|          | 0/1000 [00:00<?, ?it/s]"
            ]
          },
          "metadata": {},
          "output_type": "display_data"
        }
      ],
      "source": [
        "translations = [translate_sentence(sent,model,en_nlp,de_nlp,en_vocab,de_vocab,lower = True,sos_token = \"<sos>\",eos_token = \"<eos>\",device = \"cuda\")[0] for sent in tqdm_notebook(test_df.de.values)]"
      ]
    },
    {
      "cell_type": "code",
      "execution_count": null,
      "metadata": {
        "id": "ogH4ysu6uLOK",
        "outputId": "02e52020-7c64-4fb5-9884-7a88ea622e90"
      },
      "outputs": [
        {
          "name": "stdout",
          "output_type": "stream",
          "text": [
            "['a man in an orange hat is a a .', 'a tri - dog runs along the grass in front of a white dog .']\n"
          ]
        }
      ],
      "source": [
        "predictions = [\" \".join(translation[1:-1]) for translation in translations]\n",
        "print(predictions[:2])"
      ]
    },
    {
      "cell_type": "code",
      "execution_count": null,
      "metadata": {
        "id": "ykyI8qScuLOK",
        "outputId": "f919ed62-b97d-406e-f83d-4e0b4d9a6b90"
      },
      "outputs": [
        {
          "name": "stdout",
          "output_type": "stream",
          "text": [
            "['a man in an orange hat starring at something.',\n",
            " 'a boston terrier is running on lush green grass in front of a white fence.']\n"
          ]
        }
      ],
      "source": [
        "references = test_df.en.str.lower().tolist()\n",
        "pprint(references[:2], compact=True)"
      ]
    },
    {
      "cell_type": "code",
      "execution_count": null,
      "metadata": {
        "id": "5yNiRmlZuLOK"
      },
      "outputs": [],
      "source": [
        "bleu = evaluate.load(\"bleu\")"
      ]
    },
    {
      "cell_type": "code",
      "execution_count": null,
      "metadata": {
        "id": "KJVM4VmFuLOK"
      },
      "outputs": [],
      "source": [
        "def get_tokenizer_fn(nlp, lower):\n",
        "    def tokenizer_fn(s):\n",
        "        tokens = [token.text for token in nlp.tokenizer(s)]\n",
        "        if lower:\n",
        "            tokens = [token.lower() for token in tokens]\n",
        "        return tokens\n",
        "\n",
        "    return tokenizer_fn\n",
        "\n",
        "tokenizer_fn = get_tokenizer_fn(en_nlp,  lower = True)"
      ]
    },
    {
      "cell_type": "code",
      "execution_count": null,
      "metadata": {
        "id": "jB8jVST1uLOL",
        "outputId": "20d2d98f-e771-4829-83ac-d2de684f0b99"
      },
      "outputs": [
        {
          "data": {
            "text/plain": [
              "{'bleu': 0.2091149147336781,\n",
              " 'precisions': [0.5317575406032483,\n",
              "  0.27517198248905567,\n",
              "  0.1503561736770692,\n",
              "  0.0869162342475908],\n",
              " 'brevity_penalty': 1.0,\n",
              " 'length_ratio': 1.0561298721188452,\n",
              " 'translation_length': 13792,\n",
              " 'reference_length': 13059}"
            ]
          },
          "execution_count": 180,
          "metadata": {},
          "output_type": "execute_result"
        }
      ],
      "source": [
        "results = bleu.compute(predictions=predictions, references=references, tokenizer=tokenizer_fn)\n",
        "results"
      ]
    }
  ],
  "metadata": {
    "kernelspec": {
      "display_name": "lighting",
      "language": "python",
      "name": "python3"
    },
    "language_info": {
      "codemirror_mode": {
        "name": "ipython",
        "version": 3
      },
      "file_extension": ".py",
      "mimetype": "text/x-python",
      "name": "python",
      "nbconvert_exporter": "python",
      "pygments_lexer": "ipython3",
      "version": "3.8.18"
    },
    "colab": {
      "provenance": [],
      "include_colab_link": true
    }
  },
  "nbformat": 4,
  "nbformat_minor": 0
}